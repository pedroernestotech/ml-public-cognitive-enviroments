{
 "cells": [
  {
   "cell_type": "code",
   "execution_count": 1,
   "metadata": {},
   "outputs": [
    {
     "name": "stdout",
     "output_type": "stream",
     "text": [
      "                                     precision    recall  f1-score   support\n",
      "\n",
      "Cartão de crédito / Cartão pré-pago       0.79      0.87      0.83      1055\n",
      "            Hipotecas / Empréstimos       0.85      0.86      0.86       718\n",
      "                             Outros       0.92      0.47      0.62       437\n",
      "       Roubo / Relatório de disputa       0.81      0.80      0.81       958\n",
      "         Serviços de conta bancária       0.79      0.89      0.84      1047\n",
      "\n",
      "                           accuracy                           0.81      4215\n",
      "                          macro avg       0.83      0.78      0.79      4215\n",
      "                       weighted avg       0.82      0.81      0.81      4215\n",
      "\n",
      "Todos os F1-Scores são superiores a 75%: False\n"
     ]
    }
   ],
   "source": [
    "import numpy as np\n",
    "import pandas as pd\n",
    "import re\n",
    "from sklearn.model_selection import train_test_split\n",
    "from sklearn.feature_extraction.text import TfidfVectorizer\n",
    "from sklearn.ensemble import RandomForestClassifier\n",
    "from sklearn.metrics import classification_report, precision_recall_fscore_support\n",
    "\n",
    "\n",
    "\n",
    "\n",
    "def limpar_texto_simplificado(texto):\n",
    "    texto = texto.lower()  # Convertendo para minúculas\n",
    "    # Remover caracteres especiais e números\n",
    "    texto = re.sub(r'[^a-zA-Z\\s]', '', texto)\n",
    "    texto = re.sub(r'\\s+', ' ', texto).strip()  # Remover espaços extras\n",
    "    return texto\n",
    "\n",
    "\n",
    "# Carregando arquivo excel\n",
    "file_path = 'Base_classificacao_VIDA.xlsx'\n",
    "data = pd.read_excel(file_path)\n",
    "\n",
    "# Aplicar a função de limpeza\n",
    "data['descricao_reclamacao_limpa'] = data['descricao_reclamacao'].apply(\n",
    "    limpar_texto_simplificado)\n",
    "\n",
    "# Separar os dados em conjuntos de treino e teste\n",
    "X_train, X_test, y_train, y_test = train_test_split(\n",
    "    data['descricao_reclamacao_limpa'], data['categoria'], test_size=0.2, random_state=42)\n",
    "\n",
    "# Vetorização e Simplificação para unigramas\n",
    "vectorizer = TfidfVectorizer(max_df=0.5, ngram_range=(1, 1))\n",
    "X_train_tfidf = vectorizer.fit_transform(X_train)\n",
    "X_test_tfidf = vectorizer.transform(X_test)\n",
    "\n",
    "# Modelo RandomForestClassifier\n",
    "modelo = RandomForestClassifier(n_estimators=100, random_state=42)\n",
    "modelo.fit(X_train_tfidf, y_train)\n",
    "\n",
    "# Avaliar o modelo\n",
    "predicoes = modelo.predict(X_test_tfidf)\n",
    "report = classification_report(y_test, predicoes)\n",
    "\n",
    "# Gerar métricas de precisão, recall, f1-score para cada categoria\n",
    "metrics = precision_recall_fscore_support(\n",
    "    y_test, predicoes, labels=np.unique(predicoes))\n",
    "metrics_df = pd.DataFrame(metrics, index=[\n",
    "                          'Precision', 'Recall', 'F1-Score', 'Support'], columns=np.unique(predicoes)).T\n",
    "\n",
    "# Verificar se todos os F1-Scores são superiores a 75%\n",
    "f1_scores = metrics_df['F1-Score'] > 0.75\n",
    "todos_superiores_75 = f1_scores.all()\n",
    "\n",
    "print(report)\n",
    "print(\"Todos os F1-Scores são superiores a 75%:\", todos_superiores_75)"
   ]
  },
  {
   "cell_type": "code",
   "execution_count": null,
   "metadata": {},
   "outputs": [],
   "source": []
  }
 ],
 "metadata": {
  "kernelspec": {
   "display_name": "Python 3",
   "language": "python",
   "name": "python3"
  },
  "language_info": {
   "codemirror_mode": {
    "name": "ipython",
    "version": 3
   },
   "file_extension": ".py",
   "mimetype": "text/x-python",
   "name": "python",
   "nbconvert_exporter": "python",
   "pygments_lexer": "ipython3",
   "version": "3.9.13"
  }
 },
 "nbformat": 4,
 "nbformat_minor": 2
}
